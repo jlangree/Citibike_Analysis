{
 "nbformat": 4,
 "nbformat_minor": 2,
 "metadata": {
  "language_info": {
   "name": "python",
   "codemirror_mode": {
    "name": "ipython",
    "version": 3
   }
  },
  "orig_nbformat": 2,
  "file_extension": ".py",
  "mimetype": "text/x-python",
  "name": "python",
  "npconvert_exporter": "python",
  "pygments_lexer": "ipython3",
  "version": 3
 },
 "cells": [
  {
   "cell_type": "code",
   "execution_count": 1,
   "metadata": {},
   "outputs": [],
   "source": [
    "import pandas as pd"
   ]
  },
  {
   "cell_type": "code",
   "execution_count": 3,
   "metadata": {},
   "outputs": [
    {
     "name": "stdout",
     "output_type": "stream",
     "text": "Lines of data: 2018077\nMonths of Data: 12\n"
    }
   ],
   "source": [
    "# list of csv dates to iterate through\n",
    "csv_list = [\n",
    "    \"201810\", \"201811\", \"201812\",\"201901\", \"201902\", \"201903\", \"201904\", \"201905\", \"201906\", \"201907\", \"201908\", \"201909\"\n",
    "]\n",
    "\n",
    "# List to store dfs for each month's data\n",
    "df_list = []\n",
    "\n",
    "# Loop through list of csv's, store in df_list\n",
    "for month in csv_list:\n",
    "    # read in csv\n",
    "    df = pd.read_csv(f\"Homework/20_Citibike_Tableau/{month}-citibike-tripdata.csv\")\n",
    "    # take only 10% of rows\n",
    "    df = df.loc[range(0, len(df.index), 10)]\n",
    "    # append df to list\n",
    "    df_list.append(df)\n",
    "\n",
    "# combine each months data into one huge df\n",
    "all_data = pd.concat(df_list)\n",
    "print(f\"Lines of data: {len(all_data.index)}\")\n",
    "\n",
    "print(f\"Months of Data: {len(df_list)}\")"
   ]
  },
  {
   "cell_type": "code",
   "execution_count": 4,
   "metadata": {},
   "outputs": [],
   "source": [
    "# write all_data to csv\n",
    "all_data.to_csv(\"Homework/20_Citibike_Tableau/09-2018_09-2019_citibike_data.csv\")"
   ]
  },
  {
   "cell_type": "code",
   "execution_count": null,
   "metadata": {},
   "outputs": [],
   "source": []
  }
 ]
}